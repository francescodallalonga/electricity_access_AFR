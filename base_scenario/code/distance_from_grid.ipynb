{
 "cells": [
  {
   "cell_type": "code",
   "execution_count": 183,
   "metadata": {
    "collapsed": true
   },
   "outputs": [],
   "source": [
    "# =======\n",
    "# imports\n",
    "# =======\n",
    "%matplotlib inline\n",
    "\n",
    "import matplotlib.pyplot as plt\n",
    "import pandas as pd\n",
    "import geopandas as gpd\n",
    "import numpy as np\n",
    "import shapely"
   ]
  },
  {
   "cell_type": "markdown",
   "metadata": {},
   "source": [
    "We want to see whether there is a correlation between grid access and distance from the grid. For each country in Africa we will plot:\n",
    "- the % of population having electricity access in 2010 (x axis); \n",
    "- the % of population located x km from the grid (y axis). \n",
    "\n",
    "The former we have it from statistics. The latter we calculate it for different values of x. \n",
    "\n",
    "In QGIS (file distance_from_grid) we take existing grid buffer layers, created during the on-grid analysis, corresponding to x = [1, 5, 20, 50]: b_1k, b_5k, b20k and b_50k. We then intersect them with the country borders, keeping field ID for both layers, and fields CODE, COUNTRY and popsum for the borders layer. We save the result in xkm_clip files. \n",
    "\n",
    "Next we open the attribute table and eliminate rows where ID != ID_2. This clips the buffers to lie within country borders. We then run zonal stats to calculate the number of people in the buffers, and import the files here. "
   ]
  },
  {
   "cell_type": "code",
   "execution_count": 184,
   "metadata": {
    "collapsed": false
   },
   "outputs": [
    {
     "data": {
      "text/html": [
       "<div>\n",
       "<style scoped>\n",
       "    .dataframe tbody tr th:only-of-type {\n",
       "        vertical-align: middle;\n",
       "    }\n",
       "\n",
       "    .dataframe tbody tr th {\n",
       "        vertical-align: top;\n",
       "    }\n",
       "\n",
       "    .dataframe thead th {\n",
       "        text-align: right;\n",
       "    }\n",
       "</style>\n",
       "<table border=\"1\" class=\"dataframe\">\n",
       "  <thead>\n",
       "    <tr style=\"text-align: right;\">\n",
       "      <th></th>\n",
       "      <th>CODE</th>\n",
       "      <th>popsum</th>\n",
       "      <th>Gpopsum</th>\n",
       "      <th>1km%</th>\n",
       "    </tr>\n",
       "    <tr>\n",
       "      <th>COUNTRY</th>\n",
       "      <th></th>\n",
       "      <th></th>\n",
       "      <th></th>\n",
       "      <th></th>\n",
       "    </tr>\n",
       "  </thead>\n",
       "  <tbody>\n",
       "    <tr>\n",
       "      <th>Algeria</th>\n",
       "      <td>ALG</td>\n",
       "      <td>29343458.0</td>\n",
       "      <td>6575516.0</td>\n",
       "      <td>22.408797</td>\n",
       "    </tr>\n",
       "    <tr>\n",
       "      <th>Angola</th>\n",
       "      <td>ANG</td>\n",
       "      <td>18189991.0</td>\n",
       "      <td>1512757.0</td>\n",
       "      <td>8.316425</td>\n",
       "    </tr>\n",
       "    <tr>\n",
       "      <th>Benin</th>\n",
       "      <td>BEN</td>\n",
       "      <td>9233573.0</td>\n",
       "      <td>2737001.0</td>\n",
       "      <td>29.641841</td>\n",
       "    </tr>\n",
       "    <tr>\n",
       "      <th>Botswana</th>\n",
       "      <td>BOT</td>\n",
       "      <td>1528788.0</td>\n",
       "      <td>387938.0</td>\n",
       "      <td>25.375526</td>\n",
       "    </tr>\n",
       "    <tr>\n",
       "      <th>Burkina Faso</th>\n",
       "      <td>BUF</td>\n",
       "      <td>15097690.0</td>\n",
       "      <td>2747089.0</td>\n",
       "      <td>18.195426</td>\n",
       "    </tr>\n",
       "  </tbody>\n",
       "</table>\n",
       "</div>"
      ],
      "text/plain": [
       "             CODE      popsum    Gpopsum       1km%\n",
       "COUNTRY                                            \n",
       "Algeria       ALG  29343458.0  6575516.0  22.408797\n",
       "Angola        ANG  18189991.0  1512757.0   8.316425\n",
       "Benin         BEN   9233573.0  2737001.0  29.641841\n",
       "Botswana      BOT   1528788.0   387938.0  25.375526\n",
       "Burkina Faso  BUF  15097690.0  2747089.0  18.195426"
      ]
     },
     "execution_count": 184,
     "metadata": {},
     "output_type": "execute_result"
    }
   ],
   "source": [
    "gisdir = \"C:\\\\Users\\\\dallalongaf\\\\OneDrive - TNO\\\\work\\\\2016 02 - TransRisk\\\\4 - energy access\\\\AFR_alt\\\\gis_layers\\\\on-grid_access\\\\buffers\\\\\"\n",
    "\n",
    "# read in all buffs as gdfs and put them in a list\n",
    "x = [1,5,20,50]\n",
    "buffs = []\n",
    "for i in x: \n",
    "    fname = str(i) + \"km_clip.shp\"\n",
    "    gdf = gpd.read_file(gisdir + fname)\n",
    "    \n",
    "    # group by country\n",
    "    gdf = gdf.groupby(['COUNTRY','CODE']).sum().reset_index().set_index('COUNTRY')\n",
    "    \n",
    "    # append a column with % of pop in the buffer\n",
    "    gdf.loc[:,str(i) + \"km%\"] = 100 * gdf.Gpopsum / gdf.popsum\n",
    "    \n",
    "    buffs.append(gdf)\n",
    "    \n",
    "buffs[0].head()"
   ]
  },
  {
   "cell_type": "code",
   "execution_count": 185,
   "metadata": {
    "collapsed": false
   },
   "outputs": [
    {
     "name": "stderr",
     "output_type": "stream",
     "text": [
      "C:\\Users\\dallalongaf\\AppData\\Local\\Enthought\\Canopy\\edm\\envs\\CepPy3\\lib\\site-packages\\pandas\\core\\indexing.py:362: SettingWithCopyWarning: \n",
      "A value is trying to be set on a copy of a slice from a DataFrame.\n",
      "Try using .loc[row_indexer,col_indexer] = value instead\n",
      "\n",
      "See the caveats in the documentation: http://pandas.pydata.org/pandas-docs/stable/indexing.html#indexing-view-versus-copy\n",
      "  self.obj[key] = _infer_fill_value(value)\n",
      "C:\\Users\\dallalongaf\\AppData\\Local\\Enthought\\Canopy\\edm\\envs\\CepPy3\\lib\\site-packages\\pandas\\core\\indexing.py:543: SettingWithCopyWarning: \n",
      "A value is trying to be set on a copy of a slice from a DataFrame.\n",
      "Try using .loc[row_indexer,col_indexer] = value instead\n",
      "\n",
      "See the caveats in the documentation: http://pandas.pydata.org/pandas-docs/stable/indexing.html#indexing-view-versus-copy\n",
      "  self.obj[item] = s\n"
     ]
    },
    {
     "data": {
      "text/html": [
       "<div>\n",
       "<style scoped>\n",
       "    .dataframe tbody tr th:only-of-type {\n",
       "        vertical-align: middle;\n",
       "    }\n",
       "\n",
       "    .dataframe tbody tr th {\n",
       "        vertical-align: top;\n",
       "    }\n",
       "\n",
       "    .dataframe thead th {\n",
       "        text-align: right;\n",
       "    }\n",
       "</style>\n",
       "<table border=\"1\" class=\"dataframe\">\n",
       "  <thead>\n",
       "    <tr style=\"text-align: right;\">\n",
       "      <th></th>\n",
       "      <th>CODE</th>\n",
       "      <th>popsum</th>\n",
       "      <th>1km%</th>\n",
       "      <th>5km%</th>\n",
       "      <th>20km%</th>\n",
       "      <th>50km%</th>\n",
       "    </tr>\n",
       "    <tr>\n",
       "      <th>COUNTRY</th>\n",
       "      <th></th>\n",
       "      <th></th>\n",
       "      <th></th>\n",
       "      <th></th>\n",
       "      <th></th>\n",
       "      <th></th>\n",
       "    </tr>\n",
       "  </thead>\n",
       "  <tbody>\n",
       "    <tr>\n",
       "      <th>Algeria</th>\n",
       "      <td>ALG</td>\n",
       "      <td>29343458.0</td>\n",
       "      <td>22.408797</td>\n",
       "      <td>59.536882</td>\n",
       "      <td>81.633249</td>\n",
       "      <td>92.789340</td>\n",
       "    </tr>\n",
       "    <tr>\n",
       "      <th>Angola</th>\n",
       "      <td>ANG</td>\n",
       "      <td>18189991.0</td>\n",
       "      <td>8.316425</td>\n",
       "      <td>23.886884</td>\n",
       "      <td>39.299508</td>\n",
       "      <td>58.314388</td>\n",
       "    </tr>\n",
       "    <tr>\n",
       "      <th>Benin</th>\n",
       "      <td>BEN</td>\n",
       "      <td>9233573.0</td>\n",
       "      <td>29.641841</td>\n",
       "      <td>61.211678</td>\n",
       "      <td>83.565723</td>\n",
       "      <td>94.794886</td>\n",
       "    </tr>\n",
       "    <tr>\n",
       "      <th>Botswana</th>\n",
       "      <td>BOT</td>\n",
       "      <td>1528788.0</td>\n",
       "      <td>25.375526</td>\n",
       "      <td>64.936145</td>\n",
       "      <td>87.050657</td>\n",
       "      <td>96.327745</td>\n",
       "    </tr>\n",
       "    <tr>\n",
       "      <th>Burkina Faso</th>\n",
       "      <td>BUF</td>\n",
       "      <td>15097690.0</td>\n",
       "      <td>18.195426</td>\n",
       "      <td>40.092703</td>\n",
       "      <td>67.119612</td>\n",
       "      <td>94.913666</td>\n",
       "    </tr>\n",
       "  </tbody>\n",
       "</table>\n",
       "</div>"
      ],
      "text/plain": [
       "             CODE      popsum       1km%       5km%      20km%      50km%\n",
       "COUNTRY                                                                  \n",
       "Algeria       ALG  29343458.0  22.408797  59.536882  81.633249  92.789340\n",
       "Angola        ANG  18189991.0   8.316425  23.886884  39.299508  58.314388\n",
       "Benin         BEN   9233573.0  29.641841  61.211678  83.565723  94.794886\n",
       "Botswana      BOT   1528788.0  25.375526  64.936145  87.050657  96.327745\n",
       "Burkina Faso  BUF  15097690.0  18.195426  40.092703  67.119612  94.913666"
      ]
     },
     "execution_count": 185,
     "metadata": {},
     "output_type": "execute_result"
    }
   ],
   "source": [
    "# put all % in a new df\n",
    "\n",
    "dist_share = buffs[0][['CODE','popsum']]\n",
    "for b in buffs:\n",
    "    cname = b.columns[-1]\n",
    "    dist_share.loc[:,cname] = b.loc[:,cname]\n",
    "\n",
    "dist_share.head()\n"
   ]
  },
  {
   "cell_type": "code",
   "execution_count": 186,
   "metadata": {
    "collapsed": false
   },
   "outputs": [
    {
     "data": {
      "text/plain": [
       "<matplotlib.axes._subplots.AxesSubplot at 0x11d17358>"
      ]
     },
     "execution_count": 186,
     "metadata": {},
     "output_type": "execute_result"
    },
    {
     "data": {
      "image/png": "[encoded data removed]",
      "text/plain": [
       "<matplotlib.figure.Figure at 0x11d12ba8>"
      ]
     },
     "metadata": {},
     "output_type": "display_data"
    }
   ],
   "source": [
    "dist_share.iloc[:10,2:].plot(kind='bar')"
   ]
  },
  {
   "cell_type": "code",
   "execution_count": 187,
   "metadata": {
    "collapsed": false
   },
   "outputs": [
    {
     "data": {
      "text/html": [
       "<div>\n",
       "<style scoped>\n",
       "    .dataframe tbody tr th:only-of-type {\n",
       "        vertical-align: middle;\n",
       "    }\n",
       "\n",
       "    .dataframe tbody tr th {\n",
       "        vertical-align: top;\n",
       "    }\n",
       "\n",
       "    .dataframe thead th {\n",
       "        text-align: right;\n",
       "    }\n",
       "</style>\n",
       "<table border=\"1\" class=\"dataframe\">\n",
       "  <thead>\n",
       "    <tr style=\"text-align: right;\">\n",
       "      <th></th>\n",
       "      <th>COUNTRY</th>\n",
       "      <th>CODE</th>\n",
       "      <th>2010</th>\n",
       "    </tr>\n",
       "  </thead>\n",
       "  <tbody>\n",
       "    <tr>\n",
       "      <th>0</th>\n",
       "      <td>Aruba</td>\n",
       "      <td>ABW</td>\n",
       "      <td>93.356292</td>\n",
       "    </tr>\n",
       "    <tr>\n",
       "      <th>1</th>\n",
       "      <td>Afghanistan</td>\n",
       "      <td>AFG</td>\n",
       "      <td>42.700000</td>\n",
       "    </tr>\n",
       "    <tr>\n",
       "      <th>2</th>\n",
       "      <td>Angola</td>\n",
       "      <td>AGO</td>\n",
       "      <td>33.514950</td>\n",
       "    </tr>\n",
       "    <tr>\n",
       "      <th>3</th>\n",
       "      <td>Albania</td>\n",
       "      <td>ALB</td>\n",
       "      <td>100.000000</td>\n",
       "    </tr>\n",
       "    <tr>\n",
       "      <th>4</th>\n",
       "      <td>Andorra</td>\n",
       "      <td>AND</td>\n",
       "      <td>100.000000</td>\n",
       "    </tr>\n",
       "  </tbody>\n",
       "</table>\n",
       "</div>"
      ],
      "text/plain": [
       "       COUNTRY CODE        2010\n",
       "0        Aruba  ABW   93.356292\n",
       "1  Afghanistan  AFG   42.700000\n",
       "2       Angola  AGO   33.514950\n",
       "3      Albania  ALB  100.000000\n",
       "4      Andorra  AND  100.000000"
      ]
     },
     "execution_count": 187,
     "metadata": {},
     "output_type": "execute_result"
    }
   ],
   "source": [
    "# import el acc data: \n",
    "acc = pd.read_excel(\"input_data\\\\el_acc.xlsx\",skiprows=3)[['COUNTRY','CODE','2010']]\n",
    "acc.head()"
   ]
  },
  {
   "cell_type": "code",
   "execution_count": 188,
   "metadata": {
    "collapsed": false
   },
   "outputs": [],
   "source": [
    "# Check that all the countries we need are there:\n",
    "for i in dist_share.index:\n",
    "    if i not in list(acc.COUNTRY):\n",
    "        print(i)"
   ]
  },
  {
   "cell_type": "code",
   "execution_count": 189,
   "metadata": {
    "collapsed": false
   },
   "outputs": [
    {
     "data": {
      "text/html": [
       "<div>\n",
       "<style scoped>\n",
       "    .dataframe tbody tr th:only-of-type {\n",
       "        vertical-align: middle;\n",
       "    }\n",
       "\n",
       "    .dataframe tbody tr th {\n",
       "        vertical-align: top;\n",
       "    }\n",
       "\n",
       "    .dataframe thead th {\n",
       "        text-align: right;\n",
       "    }\n",
       "</style>\n",
       "<table border=\"1\" class=\"dataframe\">\n",
       "  <thead>\n",
       "    <tr style=\"text-align: right;\">\n",
       "      <th></th>\n",
       "      <th>CODE</th>\n",
       "      <th>popsum</th>\n",
       "      <th>1km%</th>\n",
       "      <th>5km%</th>\n",
       "      <th>20km%</th>\n",
       "      <th>50km%</th>\n",
       "      <th>acc%</th>\n",
       "    </tr>\n",
       "    <tr>\n",
       "      <th>COUNTRY</th>\n",
       "      <th></th>\n",
       "      <th></th>\n",
       "      <th></th>\n",
       "      <th></th>\n",
       "      <th></th>\n",
       "      <th></th>\n",
       "      <th></th>\n",
       "    </tr>\n",
       "  </thead>\n",
       "  <tbody>\n",
       "    <tr>\n",
       "      <th>Algeria</th>\n",
       "      <td>ALG</td>\n",
       "      <td>29343458.0</td>\n",
       "      <td>22.408797</td>\n",
       "      <td>59.536882</td>\n",
       "      <td>81.633249</td>\n",
       "      <td>92.789340</td>\n",
       "      <td>98.884972</td>\n",
       "    </tr>\n",
       "    <tr>\n",
       "      <th>Angola</th>\n",
       "      <td>ANG</td>\n",
       "      <td>18189991.0</td>\n",
       "      <td>8.316425</td>\n",
       "      <td>23.886884</td>\n",
       "      <td>39.299508</td>\n",
       "      <td>58.314388</td>\n",
       "      <td>33.514950</td>\n",
       "    </tr>\n",
       "    <tr>\n",
       "      <th>Benin</th>\n",
       "      <td>BEN</td>\n",
       "      <td>9233573.0</td>\n",
       "      <td>29.641841</td>\n",
       "      <td>61.211678</td>\n",
       "      <td>83.565723</td>\n",
       "      <td>94.794886</td>\n",
       "      <td>34.200000</td>\n",
       "    </tr>\n",
       "    <tr>\n",
       "      <th>Botswana</th>\n",
       "      <td>BOT</td>\n",
       "      <td>1528788.0</td>\n",
       "      <td>25.375526</td>\n",
       "      <td>64.936145</td>\n",
       "      <td>87.050657</td>\n",
       "      <td>96.327745</td>\n",
       "      <td>47.793114</td>\n",
       "    </tr>\n",
       "    <tr>\n",
       "      <th>Burkina Faso</th>\n",
       "      <td>BUF</td>\n",
       "      <td>15097690.0</td>\n",
       "      <td>18.195426</td>\n",
       "      <td>40.092703</td>\n",
       "      <td>67.119612</td>\n",
       "      <td>94.913666</td>\n",
       "      <td>13.100000</td>\n",
       "    </tr>\n",
       "  </tbody>\n",
       "</table>\n",
       "</div>"
      ],
      "text/plain": [
       "             CODE      popsum       1km%       5km%      20km%      50km%  \\\n",
       "COUNTRY                                                                     \n",
       "Algeria       ALG  29343458.0  22.408797  59.536882  81.633249  92.789340   \n",
       "Angola        ANG  18189991.0   8.316425  23.886884  39.299508  58.314388   \n",
       "Benin         BEN   9233573.0  29.641841  61.211678  83.565723  94.794886   \n",
       "Botswana      BOT   1528788.0  25.375526  64.936145  87.050657  96.327745   \n",
       "Burkina Faso  BUF  15097690.0  18.195426  40.092703  67.119612  94.913666   \n",
       "\n",
       "                   acc%  \n",
       "COUNTRY                  \n",
       "Algeria       98.884972  \n",
       "Angola        33.514950  \n",
       "Benin         34.200000  \n",
       "Botswana      47.793114  \n",
       "Burkina Faso  13.100000  "
      ]
     },
     "execution_count": 189,
     "metadata": {},
     "output_type": "execute_result"
    }
   ],
   "source": [
    "# put these data in our DF\n",
    "dist_share.loc[:,'acc%'] = acc.set_index('COUNTRY')['2010']\n",
    "dist_share.head()"
   ]
  },
  {
   "cell_type": "code",
   "execution_count": 193,
   "metadata": {
    "collapsed": false
   },
   "outputs": [
    {
     "data": {
      "image/png": "[encoded data removed]",
      "text/plain": [
       "<matplotlib.figure.Figure at 0x120a5f98>"
      ]
     },
     "metadata": {},
     "output_type": "display_data"
    }
   ],
   "source": [
    "# plot\n",
    "\n",
    "#plt.plot(list(dist_share['acc%']),list(dist_share['1km%']),'o')\n",
    "#plt.plot(list(dist_share['acc%']),list(dist_share['5km%']),'o')\n",
    "#plt.plot(list(dist_share['acc%']),list(dist_share['20km%']),'o')\n",
    "pty = list(dist_share['acc%'])\n",
    "ptx = list(dist_share['50km%'])\n",
    "plt.plot(ptx,pty,'o')\n",
    "for xy in zip(ptx,pty):\n",
    "    f1 = dist_share['acc%'] == xy[1]\n",
    "    c = dist_share[f1].loc[:,'CODE'].values[0]\n",
    "    plt.annotate(c, xy,ha='center',va='bottom')\n",
    "    #print(c)\n",
    "plt.plot((100,0),(100,0),'-')\n",
    "plt.xlim(0,100)\n",
    "plt.ylim(0,100)\n",
    "plt.gcf().set_size_inches(10,10)\n"
   ]
  },
  {
   "cell_type": "code",
   "execution_count": 85,
   "metadata": {
    "collapsed": false
   },
   "outputs": [
    {
     "data": {
      "text/plain": [
       "COUNTRY\n",
       "Algeria                         ALG\n",
       "Angola                          ANG\n",
       "Benin                           BEN\n",
       "Botswana                        BOT\n",
       "Burkina Faso                    BUF\n",
       "Burundi                         BUR\n",
       "Cameroon                        CAM\n",
       "Cape Verde                      CAP\n",
       "Central African Republic        CAR\n",
       "Chad                            CHA\n",
       "Comoros                         COM\n",
       "Congo                           CNG\n",
       "Democratic Republic of Congo    ZAI\n",
       "Djibouti                        DJI\n",
       "Egypt                           EGY\n",
       "Equatorial Guinea               EQG\n",
       "Eritrea                         ERI\n",
       "Ethiopia                        ETH\n",
       "Gabon                           GAB\n",
       "Gambia                          GAM\n",
       "Ghana                           GHA\n",
       "Guinea                          GIN\n",
       "Guinea Bissau                   GUB\n",
       "Ivory Coast                     CDI\n",
       "Kenya                           KEN\n",
       "Lesotho                         LES\n",
       "Liberia                         LIB\n",
       "Libya                           LAJ\n",
       "Madagascar                      MAD\n",
       "Malawi                          MAA\n",
       "Mali                            MAL\n",
       "Mauritania                      MAU\n",
       "Morocco                         MOR\n",
       "Mozambique                      MOZ\n",
       "Namibia                         NAM\n",
       "Niger                           NIG\n",
       "Nigeria                         NIR\n",
       "Rwanda                          RWA\n",
       "Senegal                         SEN\n",
       "Sierra Leone                    SIL\n",
       "Somalia                         SOM\n",
       "South Africa                    SOU\n",
       "Sudan                           SUD\n",
       "Swaziland                       SWA\n",
       "Tanzania                        TAN\n",
       "Togo                            TOG\n",
       "Tunisia                         TUN\n",
       "Uganda                          UGA\n",
       "Western Sahara                  WES\n",
       "Zambia                          ZAM\n",
       "Zimbabwe                        ZIM\n",
       "Name: CODE, dtype: object"
      ]
     },
     "execution_count": 85,
     "metadata": {},
     "output_type": "execute_result"
    }
   ],
   "source": [
    "dist_share['CODE']"
   ]
  },
  {
   "cell_type": "code",
   "execution_count": 162,
   "metadata": {
    "collapsed": false
   },
   "outputs": [
    {
     "data": {
      "text/html": [
       "<div>\n",
       "<style scoped>\n",
       "    .dataframe tbody tr th:only-of-type {\n",
       "        vertical-align: middle;\n",
       "    }\n",
       "\n",
       "    .dataframe tbody tr th {\n",
       "        vertical-align: top;\n",
       "    }\n",
       "\n",
       "    .dataframe thead th {\n",
       "        text-align: right;\n",
       "    }\n",
       "</style>\n",
       "<table border=\"1\" class=\"dataframe\">\n",
       "  <thead>\n",
       "    <tr style=\"text-align: right;\">\n",
       "      <th></th>\n",
       "      <th>1km%</th>\n",
       "      <th>5km%</th>\n",
       "      <th>20km%</th>\n",
       "      <th>50km%</th>\n",
       "      <th>1</th>\n",
       "      <th>5</th>\n",
       "      <th>20</th>\n",
       "      <th>50</th>\n",
       "      <th>51</th>\n",
       "    </tr>\n",
       "    <tr>\n",
       "      <th>COUNTRY</th>\n",
       "      <th></th>\n",
       "      <th></th>\n",
       "      <th></th>\n",
       "      <th></th>\n",
       "      <th></th>\n",
       "      <th></th>\n",
       "      <th></th>\n",
       "      <th></th>\n",
       "      <th></th>\n",
       "    </tr>\n",
       "  </thead>\n",
       "  <tbody>\n",
       "    <tr>\n",
       "      <th>Algeria</th>\n",
       "      <td>22.408797</td>\n",
       "      <td>59.536882</td>\n",
       "      <td>81.633249</td>\n",
       "      <td>92.789340</td>\n",
       "      <td>22.408797</td>\n",
       "      <td>37.128085</td>\n",
       "      <td>22.096366</td>\n",
       "      <td>11.156091</td>\n",
       "      <td>7.210660</td>\n",
       "    </tr>\n",
       "    <tr>\n",
       "      <th>Angola</th>\n",
       "      <td>8.316425</td>\n",
       "      <td>23.886884</td>\n",
       "      <td>39.299508</td>\n",
       "      <td>58.314388</td>\n",
       "      <td>8.316425</td>\n",
       "      <td>15.570459</td>\n",
       "      <td>15.412624</td>\n",
       "      <td>19.014880</td>\n",
       "      <td>41.685612</td>\n",
       "    </tr>\n",
       "    <tr>\n",
       "      <th>Benin</th>\n",
       "      <td>29.641841</td>\n",
       "      <td>61.211678</td>\n",
       "      <td>83.565723</td>\n",
       "      <td>94.794886</td>\n",
       "      <td>29.641841</td>\n",
       "      <td>31.569838</td>\n",
       "      <td>22.354044</td>\n",
       "      <td>11.229163</td>\n",
       "      <td>5.205114</td>\n",
       "    </tr>\n",
       "    <tr>\n",
       "      <th>Botswana</th>\n",
       "      <td>25.375526</td>\n",
       "      <td>64.936145</td>\n",
       "      <td>87.050657</td>\n",
       "      <td>96.327745</td>\n",
       "      <td>25.375526</td>\n",
       "      <td>39.560619</td>\n",
       "      <td>22.114512</td>\n",
       "      <td>9.277087</td>\n",
       "      <td>3.672255</td>\n",
       "    </tr>\n",
       "    <tr>\n",
       "      <th>Burkina Faso</th>\n",
       "      <td>18.195426</td>\n",
       "      <td>40.092703</td>\n",
       "      <td>67.119612</td>\n",
       "      <td>94.913666</td>\n",
       "      <td>18.195426</td>\n",
       "      <td>21.897277</td>\n",
       "      <td>27.026909</td>\n",
       "      <td>27.794053</td>\n",
       "      <td>5.086334</td>\n",
       "    </tr>\n",
       "  </tbody>\n",
       "</table>\n",
       "</div>"
      ],
      "text/plain": [
       "                   1km%       5km%      20km%      50km%          1  \\\n",
       "COUNTRY                                                               \n",
       "Algeria       22.408797  59.536882  81.633249  92.789340  22.408797   \n",
       "Angola         8.316425  23.886884  39.299508  58.314388   8.316425   \n",
       "Benin         29.641841  61.211678  83.565723  94.794886  29.641841   \n",
       "Botswana      25.375526  64.936145  87.050657  96.327745  25.375526   \n",
       "Burkina Faso  18.195426  40.092703  67.119612  94.913666  18.195426   \n",
       "\n",
       "                      5         20         50         51  \n",
       "COUNTRY                                                   \n",
       "Algeria       37.128085  22.096366  11.156091   7.210660  \n",
       "Angola        15.570459  15.412624  19.014880  41.685612  \n",
       "Benin         31.569838  22.354044  11.229163   5.205114  \n",
       "Botswana      39.560619  22.114512   9.277087   3.672255  \n",
       "Burkina Faso  21.897277  27.026909  27.794053   5.086334  "
      ]
     },
     "execution_count": 162,
     "metadata": {},
     "output_type": "execute_result"
    }
   ],
   "source": [
    "shares = dist_share.loc[:,'1km%':'50km%']\n",
    "shares.loc[:,'1'] = dist_share.loc[:,'1km%']\n",
    "shares.loc[:,'5'] = shares.loc[:,'5km%'] - dist_share.loc[:,'1km%']\n",
    "shares.loc[:,'20'] = shares.loc[:,'20km%'] - dist_share.loc[:,'5km%']\n",
    "shares.loc[:,'50'] = shares.loc[:,'50km%'] - dist_share.loc[:,'20km%']\n",
    "shares.loc[:,'51'] = 100 - dist_share.loc[:,'50km%']\n",
    "shares.head()"
   ]
  },
  {
   "cell_type": "code",
   "execution_count": 180,
   "metadata": {
    "collapsed": false
   },
   "outputs": [],
   "source": [
    "dist_share.loc[:,'avg'] = shares.loc[:,'1':'51'].idxmax(axis=1)"
   ]
  },
  {
   "cell_type": "code",
   "execution_count": 181,
   "metadata": {
    "collapsed": false
   },
   "outputs": [
    {
     "data": {
      "text/plain": [
       "[<matplotlib.lines.Line2D at 0x11d01f28>]"
      ]
     },
     "execution_count": 181,
     "metadata": {},
     "output_type": "execute_result"
    },
    {
     "data": {
      "image/png": "[encoded data removed]",
      "text/plain": [
       "<matplotlib.figure.Figure at 0x11cb15f8>"
      ]
     },
     "metadata": {},
     "output_type": "display_data"
    }
   ],
   "source": [
    "ptx = dist_share['avg'].astype(float)\n",
    "pty = dist_share['acc%'].astype(float)\n",
    "plt.plot(ptx,pty,'o')"
   ]
  },
  {
   "cell_type": "code",
   "execution_count": 182,
   "metadata": {
    "collapsed": false
   },
   "outputs": [
    {
     "data": {
      "text/html": [
       "<div>\n",
       "<style scoped>\n",
       "    .dataframe tbody tr th:only-of-type {\n",
       "        vertical-align: middle;\n",
       "    }\n",
       "\n",
       "    .dataframe tbody tr th {\n",
       "        vertical-align: top;\n",
       "    }\n",
       "\n",
       "    .dataframe thead th {\n",
       "        text-align: right;\n",
       "    }\n",
       "</style>\n",
       "<table border=\"1\" class=\"dataframe\">\n",
       "  <thead>\n",
       "    <tr style=\"text-align: right;\">\n",
       "      <th></th>\n",
       "      <th>CODE</th>\n",
       "      <th>popsum</th>\n",
       "      <th>1km%</th>\n",
       "      <th>5km%</th>\n",
       "      <th>20km%</th>\n",
       "      <th>50km%</th>\n",
       "      <th>acc%</th>\n",
       "      <th>avg</th>\n",
       "    </tr>\n",
       "    <tr>\n",
       "      <th>COUNTRY</th>\n",
       "      <th></th>\n",
       "      <th></th>\n",
       "      <th></th>\n",
       "      <th></th>\n",
       "      <th></th>\n",
       "      <th></th>\n",
       "      <th></th>\n",
       "      <th></th>\n",
       "    </tr>\n",
       "  </thead>\n",
       "  <tbody>\n",
       "    <tr>\n",
       "      <th>Algeria</th>\n",
       "      <td>ALG</td>\n",
       "      <td>29343458.0</td>\n",
       "      <td>22.408797</td>\n",
       "      <td>59.536882</td>\n",
       "      <td>81.633249</td>\n",
       "      <td>92.789340</td>\n",
       "      <td>98.884972</td>\n",
       "      <td>5</td>\n",
       "    </tr>\n",
       "    <tr>\n",
       "      <th>Angola</th>\n",
       "      <td>ANG</td>\n",
       "      <td>18189991.0</td>\n",
       "      <td>8.316425</td>\n",
       "      <td>23.886884</td>\n",
       "      <td>39.299508</td>\n",
       "      <td>58.314388</td>\n",
       "      <td>33.514950</td>\n",
       "      <td>51</td>\n",
       "    </tr>\n",
       "    <tr>\n",
       "      <th>Benin</th>\n",
       "      <td>BEN</td>\n",
       "      <td>9233573.0</td>\n",
       "      <td>29.641841</td>\n",
       "      <td>61.211678</td>\n",
       "      <td>83.565723</td>\n",
       "      <td>94.794886</td>\n",
       "      <td>34.200000</td>\n",
       "      <td>5</td>\n",
       "    </tr>\n",
       "    <tr>\n",
       "      <th>Botswana</th>\n",
       "      <td>BOT</td>\n",
       "      <td>1528788.0</td>\n",
       "      <td>25.375526</td>\n",
       "      <td>64.936145</td>\n",
       "      <td>87.050657</td>\n",
       "      <td>96.327745</td>\n",
       "      <td>47.793114</td>\n",
       "      <td>5</td>\n",
       "    </tr>\n",
       "    <tr>\n",
       "      <th>Burkina Faso</th>\n",
       "      <td>BUF</td>\n",
       "      <td>15097690.0</td>\n",
       "      <td>18.195426</td>\n",
       "      <td>40.092703</td>\n",
       "      <td>67.119612</td>\n",
       "      <td>94.913666</td>\n",
       "      <td>13.100000</td>\n",
       "      <td>50</td>\n",
       "    </tr>\n",
       "  </tbody>\n",
       "</table>\n",
       "</div>"
      ],
      "text/plain": [
       "             CODE      popsum       1km%       5km%      20km%      50km%  \\\n",
       "COUNTRY                                                                     \n",
       "Algeria       ALG  29343458.0  22.408797  59.536882  81.633249  92.789340   \n",
       "Angola        ANG  18189991.0   8.316425  23.886884  39.299508  58.314388   \n",
       "Benin         BEN   9233573.0  29.641841  61.211678  83.565723  94.794886   \n",
       "Botswana      BOT   1528788.0  25.375526  64.936145  87.050657  96.327745   \n",
       "Burkina Faso  BUF  15097690.0  18.195426  40.092703  67.119612  94.913666   \n",
       "\n",
       "                   acc% avg  \n",
       "COUNTRY                      \n",
       "Algeria       98.884972   5  \n",
       "Angola        33.514950  51  \n",
       "Benin         34.200000   5  \n",
       "Botswana      47.793114   5  \n",
       "Burkina Faso  13.100000  50  "
      ]
     },
     "execution_count": 182,
     "metadata": {},
     "output_type": "execute_result"
    }
   ],
   "source": [
    "dist_share.head()"
   ]
  },
  {
   "cell_type": "code",
   "execution_count": null,
   "metadata": {
    "collapsed": true
   },
   "outputs": [],
   "source": []
  }
 ],
 "metadata": {
  "kernelspec": {
   "display_name": "Python 3",
   "language": "python",
   "name": "python3"
  },
  "language_info": {
   "codemirror_mode": {
    "name": "ipython",
    "version": 3
   },
   "file_extension": ".py",
   "mimetype": "text/x-python",
   "name": "python",
   "nbconvert_exporter": "python",
   "pygments_lexer": "ipython3",
   "version": "3.5.2"
  }
 },
 "nbformat": 4,
 "nbformat_minor": 2
}
